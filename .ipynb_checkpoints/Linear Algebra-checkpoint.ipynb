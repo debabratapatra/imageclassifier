{
 "cells": [
  {
   "cell_type": "markdown",
   "metadata": {},
   "source": [
    "In this session, we strive to understand the basic concepts of Scalars, Vectors and Matrices."
   ]
  },
  {
   "cell_type": "markdown",
   "metadata": {},
   "source": [
    "### Scalars"
   ]
  },
  {
   "cell_type": "markdown",
   "metadata": {},
   "source": [
    "A Scalar is described by a magnitude alone.<br \\>\n",
    "In our case, it is just a number or Integer.\n",
    "\n",
    "s = 2 //Here s is a scalar."
   ]
  },
  {
   "cell_type": "markdown",
   "metadata": {},
   "source": [
    "### Vectors"
   ]
  },
  {
   "cell_type": "markdown",
   "metadata": {},
   "source": [
    "A Vector is described by both a magnitude and direction. Geometrically we represent like below\n",
    "<img src=\"images/vector.png\" width=\"300\" height=\"250\">\n",
    "In our case we can think of it as a list of numbers. <br \\>\n",
    "A = [50, 55, 60, 53, 67, 63, 68]\n"
   ]
  },
  {
   "cell_type": "markdown",
   "metadata": {},
   "source": [
    "#### Vector Sum"
   ]
  },
  {
   "cell_type": "markdown",
   "metadata": {},
   "source": [
    "<img src=\"images/vector-add.png\" width=\"400\" height=\"300\">"
   ]
  },
  {
   "cell_type": "code",
   "execution_count": 3,
   "metadata": {},
   "outputs": [
    {
     "name": "stdout",
     "output_type": "stream",
     "text": [
      "[3, 4, 5]\n"
     ]
    }
   ],
   "source": [
    "def vector_sum(a, b) :\n",
    "    return [x + y for x, y in zip(a, b)]\n",
    "\n",
    "print(vector_sum([2,3,4],[1,1,1]))"
   ]
  },
  {
   "cell_type": "markdown",
   "metadata": {},
   "source": [
    "#### Scalar Multiplication"
   ]
  },
  {
   "cell_type": "markdown",
   "metadata": {},
   "source": [
    "<img src=\"images/scalar-mul.png\" width=\"400\" height=\"300\">"
   ]
  },
  {
   "cell_type": "code",
   "execution_count": 7,
   "metadata": {},
   "outputs": [
    {
     "name": "stdout",
     "output_type": "stream",
     "text": [
      "[4, 6, 8]\n"
     ]
    }
   ],
   "source": [
    "def scalar_mul(a, s) :\n",
    "    return [s * x for x in a]\n",
    "print(scalar_mul([2,3,4], 2))"
   ]
  },
  {
   "cell_type": "markdown",
   "metadata": {},
   "source": [
    "#### Dot Product"
   ]
  },
  {
   "cell_type": "markdown",
   "metadata": {},
   "source": [
    "Dot product of two vectors is the sum of the products of the corresponding entries. Length of the vectors has to be same.\n",
    "<img src=\"images/dotproduct.svg\" width=\"500\" height=\"400\">"
   ]
  },
  {
   "cell_type": "code",
   "execution_count": 5,
   "metadata": {},
   "outputs": [
    {
     "name": "stdout",
     "output_type": "stream",
     "text": [
      "9\n"
     ]
    }
   ],
   "source": [
    "def vector_dot(a, b) :\n",
    "    return sum(x * y for x, y in zip(a, b))\n",
    "\n",
    "print(vector_dot([2,3,4],[1,1,1]))"
   ]
  },
  {
   "cell_type": "markdown",
   "metadata": {},
   "source": [
    "### Matrices"
   ]
  },
  {
   "cell_type": "markdown",
   "metadata": {},
   "source": [
    "A matrix is a rectangular array of numbers arranged in rows and columns. Below is a matrix with dimension 2 x 3.\n",
    "<img src=\"images/matrix.png\" width=\"200\" height=\"150\">\n",
    "In our case we can think of it as a two dimensional list of numbers.<br \\>\n",
    "A = [<br \\>\n",
    "&nbsp;&nbsp;[20, 30, 40],<br \\>\n",
    "&nbsp;&nbsp;[50, 60, 70]<br \\>\n",
    "    ]<br \\>\n",
    "    \n",
    "A[i][j] = Represents ith row and jth column"
   ]
  },
  {
   "cell_type": "markdown",
   "metadata": {},
   "source": [
    "### Matrix Multiplication"
   ]
  },
  {
   "cell_type": "markdown",
   "metadata": {},
   "source": [
    "Number of columns of the first matrix has to be same as number of rows of the second matrix.\n",
    "<img src=\"images/matmul.png\" width=\"500\" height=\"400\">\n",
    "<img src=\"images/matrix-multiply-f.png\" width=\"450\" height=\"400\">\n",
    "\n",
    "The dimension of the resultant matrix is 4 x 3 which is the number of rows of first matrix and the number of column of the second matrix.\n"
   ]
  },
  {
   "cell_type": "code",
   "execution_count": null,
   "metadata": {
    "collapsed": true
   },
   "outputs": [],
   "source": [
    "import numpy as np\n",
    "\n",
    "a = [[1,2,3],[3,4,5]]\n",
    "b = [[1,1,1], [2,2,2], [3,3,3]]\n",
    "np.matmul( a , b )"
   ]
  },
  {
   "cell_type": "code",
   "execution_count": null,
   "metadata": {
    "collapsed": true
   },
   "outputs": [],
   "source": []
  }
 ],
 "metadata": {
  "kernelspec": {
   "display_name": "Python 3",
   "language": "python",
   "name": "python3"
  },
  "language_info": {
   "codemirror_mode": {
    "name": "ipython",
    "version": 3
   },
   "file_extension": ".py",
   "mimetype": "text/x-python",
   "name": "python",
   "nbconvert_exporter": "python",
   "pygments_lexer": "ipython3",
   "version": "3.6.3"
  }
 },
 "nbformat": 4,
 "nbformat_minor": 2
}
